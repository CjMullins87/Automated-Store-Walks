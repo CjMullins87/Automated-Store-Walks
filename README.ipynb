{
 "cells": [
  {
   "cell_type": "markdown",
   "metadata": {},
   "source": [
    "# Capstone Project\n",
    "\n",
    "Retail genchat:\n",
    "\n",
    "* Biggest cost is labor\n",
    "* Increasing competition from all sides\n",
    "* Sales floor automation can decrease labor and drive sales\n",
    "\n",
    "HEB genchat:\n",
    "\n",
    "* HEB is the largest private employer in Texas, local grocer\n",
    "* Faces competition from Amazon/Whole Foods\n",
    "* Has beaten out competitors like Kroger, Randall's, etc\n",
    "* Relies on high labor expense: lots of store leadership; lots of salary managers; $15/hr for hour partners\n",
    "* No salesfloor automation\n",
    "* Databases that don't talk to each other\n",
    "\n",
    "Store ops:\n",
    "\n",
    "* Redundant store walks, often incomplete, by multiple parties with the same permission to alter counts but without the same total knowledge\n",
    "* A tool that evaluates patterns in the data that could help identify issues in the store and correct/flag them for leaders/managers could significantly boost sales and reduce labor cost by pointing to immediate issues\n",
    "\n",
    "Goal:\n",
    "\n",
    "* To develop a tool that can flag issues, using the same techniques we use in store"
   ]
  }
 ],
 "metadata": {
  "kernelspec": {
   "display_name": "Python [conda env:learn-env] *",
   "language": "python",
   "name": "conda-env-learn-env-py"
  },
  "language_info": {
   "codemirror_mode": {
    "name": "ipython",
    "version": 3
   },
   "file_extension": ".py",
   "mimetype": "text/x-python",
   "name": "python",
   "nbconvert_exporter": "python",
   "pygments_lexer": "ipython3",
   "version": "3.6.6"
  }
 },
 "nbformat": 4,
 "nbformat_minor": 2
}
