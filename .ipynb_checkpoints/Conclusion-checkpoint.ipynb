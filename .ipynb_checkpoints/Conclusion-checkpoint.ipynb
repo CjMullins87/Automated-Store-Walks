{
 "cells": [
  {
   "cell_type": "markdown",
   "metadata": {},
   "source": [
    "# Conclusion - A Working Proof of Concept\n",
    "\n",
    "### The Data Itself\n",
    "As previously dicussed, all of the available data has come from exports from BI of several timespans worth of bill versus scan reports. Initially this may look like it's providing 4/5 data points for each sales period, however, most of the terms are functions of each other, consider:\n",
    "\n",
    "1. **Units Billed**. Independent, should reflect what was ordered.\n",
    "2. **Units Scanned**. Independent, should reflect what as sold.\n",
    "3. **UOH estimated**. Dependent. Function of 'Billed' minus 'Scanned' units. Meant to center at zero.\n",
    "4. **Sell Thru Percent**. Dependent. Function of 'Scanned' divided by 'Billed' units.\n",
    "5. **Dollars Billed/Scanned**. Dependent. Units billed/scanned multiplied by the price of the units.\n",
    "\n",
    "As a result, the data available is sparse in terms of independent predictors. SRS - the system which runs on the handheld symbol platform, and which controls and overrides ordering - was inaccessible for this experiment. There are many independent features in SRS which could potentially have improved the model itself:  features such as shelf capacity, last date ordered, last date received; would have provided insight into the longevity of issues, if not at least the ratio of units sold vs the capcity of the shelf itself.\n",
    "\n",
    "### Feature Engineering\n",
    "As a result of this dearth of independent features, feature engineering became a prominent and highly experimental part of the narrative. Mostly, I make efforsts to derive my most preferred features from SRS:  features that demonstrate the most recent week's sales history and how many days (up to 7) has it been since the item last sold. I also break down sales/billing dollars to determine average item price for each UPC, which could significantly impact results in the pet set where \\$40 bags of food correspond to a low shelf capacity and low cost cans of food correspond to a higher shelf capacity. I also make use of BI's reporting of undefined sell through percentages to create binary classifiers at each time period. Since each oversold percentage represents (n units sold)/(0 units billed), I break these undefined terms down into binary classifiers suggesting the possibility of an oversell.\n",
    "\n",
    "Feature engineering had a major impact on the overall result - most of these derivative features were among the top features for our final classifier.\n",
    "\n",
    "![](Capture.PNG)\n",
    "\n",
    "### Modeling - Naive and Final\n",
    "Initial attempts at modeling did not yield satisfactory results. More complex models often had satisfactory accuracy but lacked sufficient recall - which is to say that, if a manager were to execute the tool, they would still leave a vast majority of shelf issues unchecked. Class imbalances were severe, so SMOTE was recruited in the end and used to train an XGBoost classifier with similar accuracy and superior recall.\n",
    "\n",
    "# Results\n",
    "SMOTE is recruited to upsample the imbalanced set and train an XGBoost classifier on the test set. On training data, the XGBoost classifier is about 95% accurate and has a 97% recall score. On test data, the model retained 95% accuracy but its recall dropped to 50%. In repeated train/test splits, recall scored consistently between 50-66% - meaning a manager could successfully execute the recommendations and capture at least half the shelf issues present."
   ]
  },
  {
   "cell_type": "markdown",
   "metadata": {},
   "source": [
    "![](Confusion.PNG)"
   ]
  },
  {
   "cell_type": "markdown",
   "metadata": {},
   "source": [
    "Altogether, this suggests that machine learning models can be successfully trained to identify shelf-level issues - which, in turn, means that machine learning can not only save managers and store leaders time, but also provide dollars to the bottom line and improve conditions for our customers.\n",
    "\n",
    "While tools like this can not yet alleviate the need for store walks, a complete walk that captures a full 50-66% of issues overall is likely more effective than the multiple reactionary walks that take place on a daily basis, and alleviates the need for specialized knowledge - such as seasonality of sales drivers, regional trends, and ad push items."
   ]
  }
 ],
 "metadata": {
  "kernelspec": {
   "display_name": "Python [conda env:learn-env] *",
   "language": "python",
   "name": "conda-env-learn-env-py"
  },
  "language_info": {
   "codemirror_mode": {
    "name": "ipython",
    "version": 3
   },
   "file_extension": ".py",
   "mimetype": "text/x-python",
   "name": "python",
   "nbconvert_exporter": "python",
   "pygments_lexer": "ipython3",
   "version": "3.6.6"
  }
 },
 "nbformat": 4,
 "nbformat_minor": 2
}
