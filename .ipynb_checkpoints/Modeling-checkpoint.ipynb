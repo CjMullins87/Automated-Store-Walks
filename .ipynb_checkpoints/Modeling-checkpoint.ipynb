{
 "cells": [
  {
   "cell_type": "markdown",
   "metadata": {},
   "source": [
    "# Naive Modeling w/ Our Cleaned and Prepped Dataset\n",
    "\n",
    "Now that I've got an extra feature in and I've made judicious decisions about how to handle missing values from our dataset, we can start modeling and see what we wind up with."
   ]
  },
  {
   "cell_type": "code",
   "execution_count": 1,
   "metadata": {},
   "outputs": [],
   "source": [
    "import pandas as pd\n",
    "import numpy as np\n",
    "import matplotlib.pyplot as plt\n",
    "plt.style.use('ggplot')"
   ]
  },
  {
   "cell_type": "code",
   "execution_count": 2,
   "metadata": {},
   "outputs": [],
   "source": [
    "parent = pd.read_pickle('parent_f.pkl')\n",
    "holes = pd.read_pickle('holes.pkl')"
   ]
  },
  {
   "cell_type": "markdown",
   "metadata": {},
   "source": [
    "The 'Holes' dataset from earlier has our flag of issues, so we're going to bring it in, drop the 'product' label and do a left hand merge with our parent dataset to append the flag, then use `fillna` to put 0s in our unflagged UPCs."
   ]
  },
  {
   "cell_type": "code",
   "execution_count": 3,
   "metadata": {},
   "outputs": [
    {
     "data": {
      "text/html": [
       "<div>\n",
       "<style scoped>\n",
       "    .dataframe tbody tr th:only-of-type {\n",
       "        vertical-align: middle;\n",
       "    }\n",
       "\n",
       "    .dataframe tbody tr th {\n",
       "        vertical-align: top;\n",
       "    }\n",
       "\n",
       "    .dataframe thead th {\n",
       "        text-align: right;\n",
       "    }\n",
       "</style>\n",
       "<table border=\"1\" class=\"dataframe\">\n",
       "  <thead>\n",
       "    <tr style=\"text-align: right;\">\n",
       "      <th></th>\n",
       "      <th>UPC</th>\n",
       "    </tr>\n",
       "  </thead>\n",
       "  <tbody>\n",
       "    <tr>\n",
       "      <th>0</th>\n",
       "      <td>1780014500</td>\n",
       "    </tr>\n",
       "    <tr>\n",
       "      <th>1</th>\n",
       "      <td>82927421880</td>\n",
       "    </tr>\n",
       "    <tr>\n",
       "      <th>2</th>\n",
       "      <td>82927451250</td>\n",
       "    </tr>\n",
       "    <tr>\n",
       "      <th>3</th>\n",
       "      <td>5000050037</td>\n",
       "    </tr>\n",
       "    <tr>\n",
       "      <th>4</th>\n",
       "      <td>5000023891</td>\n",
       "    </tr>\n",
       "  </tbody>\n",
       "</table>\n",
       "</div>"
      ],
      "text/plain": [
       "           UPC\n",
       "0   1780014500\n",
       "1  82927421880\n",
       "2  82927451250\n",
       "3   5000050037\n",
       "4   5000023891"
      ]
     },
     "execution_count": 3,
     "metadata": {},
     "output_type": "execute_result"
    }
   ],
   "source": [
    "holes.drop('Product', axis = 1, inplace = True)\n",
    "holes.head()"
   ]
  },
  {
   "cell_type": "code",
   "execution_count": 4,
   "metadata": {},
   "outputs": [
    {
     "data": {
      "text/html": [
       "<div>\n",
       "<style scoped>\n",
       "    .dataframe tbody tr th:only-of-type {\n",
       "        vertical-align: middle;\n",
       "    }\n",
       "\n",
       "    .dataframe tbody tr th {\n",
       "        vertical-align: top;\n",
       "    }\n",
       "\n",
       "    .dataframe thead th {\n",
       "        text-align: right;\n",
       "    }\n",
       "</style>\n",
       "<table border=\"1\" class=\"dataframe\">\n",
       "  <thead>\n",
       "    <tr style=\"text-align: right;\">\n",
       "      <th></th>\n",
       "      <th>UPC</th>\n",
       "      <th>Hole</th>\n",
       "    </tr>\n",
       "  </thead>\n",
       "  <tbody>\n",
       "    <tr>\n",
       "      <th>0</th>\n",
       "      <td>1780014500</td>\n",
       "      <td>1</td>\n",
       "    </tr>\n",
       "    <tr>\n",
       "      <th>1</th>\n",
       "      <td>82927421880</td>\n",
       "      <td>1</td>\n",
       "    </tr>\n",
       "    <tr>\n",
       "      <th>2</th>\n",
       "      <td>82927451250</td>\n",
       "      <td>1</td>\n",
       "    </tr>\n",
       "    <tr>\n",
       "      <th>3</th>\n",
       "      <td>5000050037</td>\n",
       "      <td>1</td>\n",
       "    </tr>\n",
       "    <tr>\n",
       "      <th>4</th>\n",
       "      <td>5000023891</td>\n",
       "      <td>1</td>\n",
       "    </tr>\n",
       "  </tbody>\n",
       "</table>\n",
       "</div>"
      ],
      "text/plain": [
       "           UPC  Hole\n",
       "0   1780014500     1\n",
       "1  82927421880     1\n",
       "2  82927451250     1\n",
       "3   5000050037     1\n",
       "4   5000023891     1"
      ]
     },
     "execution_count": 4,
     "metadata": {},
     "output_type": "execute_result"
    }
   ],
   "source": [
    "holes['Hole'] = 1\n",
    "holes.head()"
   ]
  },
  {
   "cell_type": "code",
   "execution_count": 5,
   "metadata": {},
   "outputs": [
    {
     "data": {
      "text/html": [
       "<div>\n",
       "<style scoped>\n",
       "    .dataframe tbody tr th:only-of-type {\n",
       "        vertical-align: middle;\n",
       "    }\n",
       "\n",
       "    .dataframe tbody tr th {\n",
       "        vertical-align: top;\n",
       "    }\n",
       "\n",
       "    .dataframe thead th {\n",
       "        text-align: right;\n",
       "    }\n",
       "</style>\n",
       "<table border=\"1\" class=\"dataframe\">\n",
       "  <thead>\n",
       "    <tr style=\"text-align: right;\">\n",
       "      <th></th>\n",
       "      <th>UPC</th>\n",
       "      <th>Bill Units 26</th>\n",
       "      <th>Scan Units 26</th>\n",
       "      <th>UOH 26</th>\n",
       "      <th>Sell Thru 26</th>\n",
       "      <th>Bill 26</th>\n",
       "      <th>Sales 26</th>\n",
       "      <th>Bill Units 12</th>\n",
       "      <th>Scan Units 12</th>\n",
       "      <th>UOH 12</th>\n",
       "      <th>...</th>\n",
       "      <th>Sales 7</th>\n",
       "      <th>Sales_7</th>\n",
       "      <th>Sales_6</th>\n",
       "      <th>Sales_5</th>\n",
       "      <th>Sales_4</th>\n",
       "      <th>Sales_3</th>\n",
       "      <th>Sales_2</th>\n",
       "      <th>Sales_1</th>\n",
       "      <th>Days Since Last Sale</th>\n",
       "      <th>Hole</th>\n",
       "    </tr>\n",
       "  </thead>\n",
       "  <tbody>\n",
       "    <tr>\n",
       "      <th>0</th>\n",
       "      <td>1113200392</td>\n",
       "      <td>240</td>\n",
       "      <td>237</td>\n",
       "      <td>3</td>\n",
       "      <td>99</td>\n",
       "      <td>638</td>\n",
       "      <td>631</td>\n",
       "      <td>104.0</td>\n",
       "      <td>105.0</td>\n",
       "      <td>-1.0</td>\n",
       "      <td>...</td>\n",
       "      <td>27.0</td>\n",
       "      <td>5.0</td>\n",
       "      <td>5.0</td>\n",
       "      <td>3.0</td>\n",
       "      <td>0.0</td>\n",
       "      <td>5.0</td>\n",
       "      <td>3.0</td>\n",
       "      <td>5.0</td>\n",
       "      <td>0</td>\n",
       "      <td>1.0</td>\n",
       "    </tr>\n",
       "    <tr>\n",
       "      <th>1</th>\n",
       "      <td>1113212556</td>\n",
       "      <td>86</td>\n",
       "      <td>84</td>\n",
       "      <td>2</td>\n",
       "      <td>98</td>\n",
       "      <td>412</td>\n",
       "      <td>400</td>\n",
       "      <td>46.0</td>\n",
       "      <td>45.0</td>\n",
       "      <td>1.0</td>\n",
       "      <td>...</td>\n",
       "      <td>27.0</td>\n",
       "      <td>10.0</td>\n",
       "      <td>0.0</td>\n",
       "      <td>5.0</td>\n",
       "      <td>0.0</td>\n",
       "      <td>5.0</td>\n",
       "      <td>7.0</td>\n",
       "      <td>0.0</td>\n",
       "      <td>1</td>\n",
       "      <td>1.0</td>\n",
       "    </tr>\n",
       "    <tr>\n",
       "      <th>2</th>\n",
       "      <td>1113213597</td>\n",
       "      <td>468</td>\n",
       "      <td>490</td>\n",
       "      <td>-22</td>\n",
       "      <td>105</td>\n",
       "      <td>365</td>\n",
       "      <td>382</td>\n",
       "      <td>168.0</td>\n",
       "      <td>197.0</td>\n",
       "      <td>-29.0</td>\n",
       "      <td>...</td>\n",
       "      <td>9.0</td>\n",
       "      <td>0.0</td>\n",
       "      <td>9.0</td>\n",
       "      <td>0.0</td>\n",
       "      <td>0.0</td>\n",
       "      <td>0.0</td>\n",
       "      <td>0.0</td>\n",
       "      <td>0.0</td>\n",
       "      <td>5</td>\n",
       "      <td>1.0</td>\n",
       "    </tr>\n",
       "    <tr>\n",
       "      <th>3</th>\n",
       "      <td>1113214544</td>\n",
       "      <td>64</td>\n",
       "      <td>63</td>\n",
       "      <td>1</td>\n",
       "      <td>98</td>\n",
       "      <td>511</td>\n",
       "      <td>504</td>\n",
       "      <td>29.0</td>\n",
       "      <td>29.0</td>\n",
       "      <td>0.0</td>\n",
       "      <td>...</td>\n",
       "      <td>32.0</td>\n",
       "      <td>0.0</td>\n",
       "      <td>8.0</td>\n",
       "      <td>16.0</td>\n",
       "      <td>8.0</td>\n",
       "      <td>0.0</td>\n",
       "      <td>0.0</td>\n",
       "      <td>0.0</td>\n",
       "      <td>3</td>\n",
       "      <td>NaN</td>\n",
       "    </tr>\n",
       "    <tr>\n",
       "      <th>4</th>\n",
       "      <td>1780001260</td>\n",
       "      <td>44</td>\n",
       "      <td>45</td>\n",
       "      <td>-1</td>\n",
       "      <td>102</td>\n",
       "      <td>505</td>\n",
       "      <td>517</td>\n",
       "      <td>16.0</td>\n",
       "      <td>16.0</td>\n",
       "      <td>0.0</td>\n",
       "      <td>...</td>\n",
       "      <td>23.0</td>\n",
       "      <td>0.0</td>\n",
       "      <td>11.0</td>\n",
       "      <td>11.0</td>\n",
       "      <td>0.0</td>\n",
       "      <td>0.0</td>\n",
       "      <td>0.0</td>\n",
       "      <td>0.0</td>\n",
       "      <td>4</td>\n",
       "      <td>NaN</td>\n",
       "    </tr>\n",
       "  </tbody>\n",
       "</table>\n",
       "<p>5 rows × 28 columns</p>\n",
       "</div>"
      ],
      "text/plain": [
       "          UPC  Bill Units 26  Scan Units 26  UOH 26  Sell Thru 26  Bill 26  \\\n",
       "0  1113200392            240            237       3            99      638   \n",
       "1  1113212556             86             84       2            98      412   \n",
       "2  1113213597            468            490     -22           105      365   \n",
       "3  1113214544             64             63       1            98      511   \n",
       "4  1780001260             44             45      -1           102      505   \n",
       "\n",
       "   Sales 26  Bill Units 12  Scan Units 12  UOH 12  ...   Sales 7  Sales_7  \\\n",
       "0       631          104.0          105.0    -1.0  ...      27.0      5.0   \n",
       "1       400           46.0           45.0     1.0  ...      27.0     10.0   \n",
       "2       382          168.0          197.0   -29.0  ...       9.0      0.0   \n",
       "3       504           29.0           29.0     0.0  ...      32.0      0.0   \n",
       "4       517           16.0           16.0     0.0  ...      23.0      0.0   \n",
       "\n",
       "   Sales_6  Sales_5  Sales_4  Sales_3  Sales_2  Sales_1  Days Since Last Sale  \\\n",
       "0      5.0      3.0      0.0      5.0      3.0      5.0                     0   \n",
       "1      0.0      5.0      0.0      5.0      7.0      0.0                     1   \n",
       "2      9.0      0.0      0.0      0.0      0.0      0.0                     5   \n",
       "3      8.0     16.0      8.0      0.0      0.0      0.0                     3   \n",
       "4     11.0     11.0      0.0      0.0      0.0      0.0                     4   \n",
       "\n",
       "   Hole  \n",
       "0   1.0  \n",
       "1   1.0  \n",
       "2   1.0  \n",
       "3   NaN  \n",
       "4   NaN  \n",
       "\n",
       "[5 rows x 28 columns]"
      ]
     },
     "execution_count": 5,
     "metadata": {},
     "output_type": "execute_result"
    }
   ],
   "source": [
    "parent = parent.merge(holes, how = 'left', on = 'UPC')\n",
    "parent.head()"
   ]
  },
  {
   "cell_type": "code",
   "execution_count": 6,
   "metadata": {},
   "outputs": [
    {
     "data": {
      "text/plain": [
       "Index(['UPC', 'Bill Units 26', 'Scan Units 26', 'UOH 26', 'Sell Thru 26',\n",
       "       'Bill 26', 'Sales 26', 'Bill Units 12', 'Scan Units 12', 'UOH 12',\n",
       "       'Sell Thru 12', 'Bill 12', 'Sales 12', 'Bill Units 7', 'Scan Units 7',\n",
       "       'UOH 7', 'Sell Thru 7', 'Bill 7', 'Sales 7', 'Sales_7', 'Sales_6',\n",
       "       'Sales_5', 'Sales_4', 'Sales_3', 'Sales_2', 'Sales_1',\n",
       "       'Days Since Last Sale', 'Hole'],\n",
       "      dtype='object')"
      ]
     },
     "execution_count": 6,
     "metadata": {},
     "output_type": "execute_result"
    }
   ],
   "source": [
    "parent.columns"
   ]
  },
  {
   "cell_type": "code",
   "execution_count": 7,
   "metadata": {
    "scrolled": true
   },
   "outputs": [
    {
     "data": {
      "text/plain": [
       "UPC                       0\n",
       "Bill Units 26             0\n",
       "Scan Units 26             0\n",
       "UOH 26                    0\n",
       "Sell Thru 26              0\n",
       "Bill 26                   0\n",
       "Sales 26                  0\n",
       "Bill Units 12             0\n",
       "Scan Units 12             0\n",
       "UOH 12                    0\n",
       "Sell Thru 12              0\n",
       "Bill 12                   0\n",
       "Sales 12                  0\n",
       "Bill Units 7              0\n",
       "Scan Units 7              0\n",
       "UOH 7                     0\n",
       "Sell Thru 7               0\n",
       "Bill 7                    0\n",
       "Sales 7                   0\n",
       "Sales_7                   0\n",
       "Sales_6                   0\n",
       "Sales_5                   0\n",
       "Sales_4                   0\n",
       "Sales_3                   0\n",
       "Sales_2                   0\n",
       "Sales_1                   0\n",
       "Days Since Last Sale      0\n",
       "Hole                    907\n",
       "dtype: int64"
      ]
     },
     "execution_count": 7,
     "metadata": {},
     "output_type": "execute_result"
    }
   ],
   "source": [
    "parent.isnull().sum()"
   ]
  },
  {
   "cell_type": "code",
   "execution_count": 8,
   "metadata": {
    "scrolled": true
   },
   "outputs": [
    {
     "data": {
      "text/plain": [
       "UPC                     0\n",
       "Bill Units 26           0\n",
       "Scan Units 26           0\n",
       "UOH 26                  0\n",
       "Sell Thru 26            0\n",
       "Bill 26                 0\n",
       "Sales 26                0\n",
       "Bill Units 12           0\n",
       "Scan Units 12           0\n",
       "UOH 12                  0\n",
       "Sell Thru 12            0\n",
       "Bill 12                 0\n",
       "Sales 12                0\n",
       "Bill Units 7            0\n",
       "Scan Units 7            0\n",
       "UOH 7                   0\n",
       "Sell Thru 7             0\n",
       "Bill 7                  0\n",
       "Sales 7                 0\n",
       "Sales_7                 0\n",
       "Sales_6                 0\n",
       "Sales_5                 0\n",
       "Sales_4                 0\n",
       "Sales_3                 0\n",
       "Sales_2                 0\n",
       "Sales_1                 0\n",
       "Days Since Last Sale    0\n",
       "Hole                    0\n",
       "dtype: int64"
      ]
     },
     "execution_count": 8,
     "metadata": {},
     "output_type": "execute_result"
    }
   ],
   "source": [
    "parent.fillna(0, inplace = True)\n",
    "parent.isnull().sum()"
   ]
  },
  {
   "cell_type": "code",
   "execution_count": 9,
   "metadata": {},
   "outputs": [
    {
     "data": {
      "text/plain": [
       "(60, 2)"
      ]
     },
     "execution_count": 9,
     "metadata": {},
     "output_type": "execute_result"
    }
   ],
   "source": [
    "holes.shape"
   ]
  },
  {
   "cell_type": "code",
   "execution_count": 10,
   "metadata": {},
   "outputs": [
    {
     "data": {
      "text/plain": [
       "56.0"
      ]
     },
     "execution_count": 10,
     "metadata": {},
     "output_type": "execute_result"
    }
   ],
   "source": [
    "parent.Hole.sum()"
   ]
  },
  {
   "cell_type": "markdown",
   "metadata": {},
   "source": [
    "From here I can see that I 4 items from the Holes set didn't match anything in our 6mo sales history - so, as previously decided - we used the left hand join to drop those w/out sales history. This would include the Maybelline product that was scanned before, and may therefore mean we're just excluding tags for items that should have already been removed from the set."
   ]
  },
  {
   "cell_type": "markdown",
   "metadata": {},
   "source": [
    "# Baseline Model\n",
    "\n",
    "When evaluating our models, it's important to keep a baseline model in mind. Unfortunately, due to how unbalanced our set is, that's a heavy burden."
   ]
  },
  {
   "cell_type": "code",
   "execution_count": 11,
   "metadata": {},
   "outputs": [],
   "source": [
    "import matplotlib.pyplot as plt"
   ]
  },
  {
   "cell_type": "code",
   "execution_count": 12,
   "metadata": {},
   "outputs": [
    {
     "data": {
      "text/plain": [
       "<BarContainer object of 2 artists>"
      ]
     },
     "execution_count": 12,
     "metadata": {},
     "output_type": "execute_result"
    },
    {
     "data": {
      "image/png": "[encoded data removed]",
      "text/plain": [
       "<Figure size 1080x360 with 1 Axes>"
      ]
     },
     "metadata": {
      "needs_background": "light"
     },
     "output_type": "display_data"
    }
   ],
   "source": [
    "plt.figure(figsize = (15,5))\n",
    "plt.title('Demonstration of Class Imbalance')\n",
    "plt.bar(['UPCs w/out Holes', 'UPCs w/ Holes'], (parent.Hole.value_counts()[0], parent.Hole.value_counts()[1]), color = ['b', 'r'])"
   ]
  },
  {
   "cell_type": "code",
   "execution_count": 13,
   "metadata": {},
   "outputs": [
    {
     "data": {
      "text/plain": [
       "0.0    907\n",
       "1.0     56\n",
       "Name: Hole, dtype: int64"
      ]
     },
     "execution_count": 13,
     "metadata": {},
     "output_type": "execute_result"
    }
   ],
   "source": [
    "parent.Hole.value_counts()"
   ]
  },
  {
   "cell_type": "markdown",
   "metadata": {},
   "source": [
    "So with all of our data, we only have 56 holes we can predict. We can account for this imbalance when we assign training weights, but it's important to know what our baseline model looks like.\n",
    "\n",
    "At this point, with 56 holes, **a baseline model which assumes everything is fine, and that there are no holes, would be 94% accurate**. This means that for the tool to be useful, it must be more than 94% accurate at the least."
   ]
  },
  {
   "cell_type": "markdown",
   "metadata": {},
   "source": [
    "# Model Test - Basic Decision Tree\n",
    "\n",
    "I want to start off with a basic Decision Tree just to see what we can get. So, to that end I'm going to import it from skl and get started."
   ]
  },
  {
   "cell_type": "code",
   "execution_count": 30,
   "metadata": {},
   "outputs": [],
   "source": [
    "import numpy as np\n",
    "from sklearn.model_selection import train_test_split, cross_val_score\n",
    "from sklearn.tree import DecisionTreeClassifier"
   ]
  },
  {
   "cell_type": "code",
   "execution_count": 37,
   "metadata": {},
   "outputs": [],
   "source": [
    "y = parent.Hole\n",
    "X = parent.drop(['Hole', 'UPC'], axis = 1)"
   ]
  },
  {
   "cell_type": "code",
   "execution_count": 38,
   "metadata": {},
   "outputs": [],
   "source": [
    "X_train, X_test, y_train, y_test = train_test_split(X, y, test_size = 0.3)"
   ]
  },
  {
   "cell_type": "code",
   "execution_count": 39,
   "metadata": {},
   "outputs": [
    {
     "data": {
      "text/plain": [
       "DecisionTreeClassifier(class_weight=None, criterion='gini', max_depth=None,\n",
       "            max_features=None, max_leaf_nodes=None,\n",
       "            min_impurity_decrease=0.0, min_impurity_split=None,\n",
       "            min_samples_leaf=1, min_samples_split=2,\n",
       "            min_weight_fraction_leaf=0.0, presort=False, random_state=None,\n",
       "            splitter='best')"
      ]
     },
     "execution_count": 39,
     "metadata": {},
     "output_type": "execute_result"
    }
   ],
   "source": [
    "tree = DecisionTreeClassifier()\n",
    "tree.fit(X_train, y_train)"
   ]
  },
  {
   "cell_type": "code",
   "execution_count": 40,
   "metadata": {},
   "outputs": [
    {
     "data": {
      "text/plain": [
       "1.0"
      ]
     },
     "execution_count": 40,
     "metadata": {},
     "output_type": "execute_result"
    }
   ],
   "source": [
    "tree.score(X_train, y_train)"
   ]
  },
  {
   "cell_type": "code",
   "execution_count": 41,
   "metadata": {},
   "outputs": [
    {
     "data": {
      "text/plain": [
       "0.8858131487889274"
      ]
     },
     "execution_count": 41,
     "metadata": {},
     "output_type": "execute_result"
    }
   ],
   "source": [
    "tree.score(X_test, y_test)"
   ]
  },
  {
   "cell_type": "code",
   "execution_count": 42,
   "metadata": {},
   "outputs": [
    {
     "data": {
      "text/plain": [
       "0.8768711995577666"
      ]
     },
     "execution_count": 42,
     "metadata": {},
     "output_type": "execute_result"
    }
   ],
   "source": [
    "np.mean(cross_val_score(tree, X_train, y_train, cv = 5))"
   ]
  },
  {
   "cell_type": "markdown",
   "metadata": {},
   "source": [
    "At first blush, 88% accuracy seems very good. However, when you consider **that our dataset is severely imbalanced** it's much less impressive. The reality is that in our dataset w/ 963 UPCs, only 50+ have an issue. Therefore, if we had a rudimentary model that only assumed \"Everything is fine\", it would still be 94% accurate - which is much more accurate than the 88% accuracy we're getting from the decision tree.\n",
    "\n",
    "We can take a look at where the missteps are by using a confusion matrix."
   ]
  },
  {
   "cell_type": "code",
   "execution_count": 47,
   "metadata": {},
   "outputs": [],
   "source": [
    "from sklearn.metrics import confusion_matrix"
   ]
  },
  {
   "cell_type": "code",
   "execution_count": 48,
   "metadata": {},
   "outputs": [],
   "source": [
    "train_predict = tree.predict(X_train)\n",
    "test_predict = tree.predict(X_test)"
   ]
  },
  {
   "cell_type": "code",
   "execution_count": 49,
   "metadata": {},
   "outputs": [
    {
     "data": {
      "text/plain": [
       "array([[634,   0],\n",
       "       [  0,  40]], dtype=int64)"
      ]
     },
     "execution_count": 49,
     "metadata": {},
     "output_type": "execute_result"
    }
   ],
   "source": [
    "confusion_matrix(y_train, train_predict)"
   ]
  },
  {
   "cell_type": "code",
   "execution_count": 50,
   "metadata": {},
   "outputs": [
    {
     "data": {
      "text/plain": [
       "array([[253,  20],\n",
       "       [ 13,   3]], dtype=int64)"
      ]
     },
     "execution_count": 50,
     "metadata": {},
     "output_type": "execute_result"
    }
   ],
   "source": [
    "confusion_matrix(y_test, test_predict)"
   ]
  },
  {
   "cell_type": "markdown",
   "metadata": {},
   "source": [
    "Realistically, it looks like the model is overfitting on the test set. I can play with the hyperparameters as I try out more models to reduce this, but the accuracy does not look good. If it's only successfully pointing out 3 real issues, I'll need more options."
   ]
  },
  {
   "cell_type": "markdown",
   "metadata": {},
   "source": [
    "# Model Test - XGBoost\n",
    "\n",
    "Since XGBoost is a big leader right now in classification, I want to try bringing it into the fold and seeing if it can improve the accuracy of the model."
   ]
  },
  {
   "cell_type": "code",
   "execution_count": 55,
   "metadata": {},
   "outputs": [],
   "source": [
    "import xgboost as xbg\n",
    "from xgboost import XGBClassifier"
   ]
  },
  {
   "cell_type": "code",
   "execution_count": 73,
   "metadata": {},
   "outputs": [],
   "source": [
    "xbg = XGBClassifier(nthread = 12, eval = 'auc')"
   ]
  },
  {
   "cell_type": "code",
   "execution_count": 74,
   "metadata": {},
   "outputs": [],
   "source": [
    "a = xbg.fit(X_train, y_train)"
   ]
  },
  {
   "cell_type": "code",
   "execution_count": 75,
   "metadata": {},
   "outputs": [
    {
     "name": "stdout",
     "output_type": "stream",
     "text": [
      "[[634   0]\n",
      " [ 22  18]]\n"
     ]
    }
   ],
   "source": [
    "training_preds = a.predict(X_train)\n",
    "testing_preds = a.predict(X_test)\n",
    "\n",
    "print(confusion_matrix(y_train, training_preds))"
   ]
  },
  {
   "cell_type": "code",
   "execution_count": 76,
   "metadata": {},
   "outputs": [
    {
     "data": {
      "text/plain": [
       "array([[272,   1],\n",
       "       [ 15,   1]], dtype=int64)"
      ]
     },
     "execution_count": 76,
     "metadata": {},
     "output_type": "execute_result"
    }
   ],
   "source": [
    "confusion_matrix(y_test, testing_preds)"
   ]
  },
  {
   "cell_type": "code",
   "execution_count": 78,
   "metadata": {},
   "outputs": [
    {
     "data": {
      "text/plain": [
       "0.9448173326360905"
      ]
     },
     "execution_count": 78,
     "metadata": {},
     "output_type": "execute_result"
    }
   ],
   "source": [
    "np.mean(cross_val_score(xbg, X_test, y_test, cv=5 ))"
   ]
  },
  {
   "cell_type": "code",
   "execution_count": 79,
   "metadata": {},
   "outputs": [
    {
     "data": {
      "text/plain": [
       "0.9361967938087341"
      ]
     },
     "execution_count": 79,
     "metadata": {},
     "output_type": "execute_result"
    }
   ],
   "source": [
    "np.mean(cross_val_score(xbg, X_train, y_train, cv=5))"
   ]
  },
  {
   "cell_type": "markdown",
   "metadata": {},
   "source": [
    "With a cross validated accuracy of about 94% we're just sitting on the cusp of where we need to be - a sophisticated model that can at least match the least complex model in accuracy. I want to try a couple more parameters and see where I can get."
   ]
  },
  {
   "cell_type": "code",
   "execution_count": 174,
   "metadata": {},
   "outputs": [
    {
     "data": {
      "text/plain": [
       "XGBClassifier(base_score=0.5, booster='gbtree', colsample_bylevel=1,\n",
       "       colsample_bytree=1, eval='auc', gamma=0, learning_rate=0.1,\n",
       "       max_delta_step=0, max_depth=3, min_child_weight=1, missing=None,\n",
       "       n_estimators=100, n_jobs=1, nthread=12, objective='binary:logistic',\n",
       "       random_state=0, reg_alpha=0, reg_lambda=1, scale_pos_weight=4,\n",
       "       seed=None, silent=True, subsample=1)"
      ]
     },
     "execution_count": 174,
     "metadata": {},
     "output_type": "execute_result"
    }
   ],
   "source": [
    "xbg2 = XGBClassifier(nthread = 12, eval = 'auc', scale_pos_weight= 4)\n",
    "xbg2.fit(X_train, y_train)"
   ]
  },
  {
   "cell_type": "code",
   "execution_count": 175,
   "metadata": {},
   "outputs": [
    {
     "name": "stdout",
     "output_type": "stream",
     "text": [
      "[[632   2]\n",
      " [  3  37]]\n"
     ]
    }
   ],
   "source": [
    "training_preds2 = xbg2.predict(X_train)\n",
    "testing_preds2 = xbg2.predict(X_test)\n",
    "\n",
    "print(confusion_matrix(y_train, training_preds2))"
   ]
  },
  {
   "cell_type": "code",
   "execution_count": 176,
   "metadata": {},
   "outputs": [
    {
     "data": {
      "text/plain": [
       "array([[272,   1],\n",
       "       [ 14,   2]], dtype=int64)"
      ]
     },
     "execution_count": 176,
     "metadata": {},
     "output_type": "execute_result"
    }
   ],
   "source": [
    "confusion_matrix(y_test, testing_preds2)"
   ]
  },
  {
   "cell_type": "code",
   "execution_count": 177,
   "metadata": {},
   "outputs": [
    {
     "data": {
      "text/plain": [
       "0.9257932559425097"
      ]
     },
     "execution_count": 177,
     "metadata": {},
     "output_type": "execute_result"
    }
   ],
   "source": [
    "np.mean(cross_val_score(xbg2, X_train, y_train, cv=5 ))"
   ]
  },
  {
   "cell_type": "markdown",
   "metadata": {},
   "source": [
    "More or less looks like I'm maxing out. I want to try a grid search with a Random Forest to see if maybe that will work; and I also still want to try a grid search with XGBoost.\n",
    "\n",
    "# Model Test - Random Forest w/ Grid Search\n",
    "\n",
    "From here I'm going to import the random forest classifier, as well as the Grid Search tool. However, I'm going to try refining the evaluation of my models a bit.\n",
    "\n",
    "As a store partner, I'm mostly interested in finding the holes - less interested in total overall accuracy. This is to say that, in terms of dollars, if I invest time in investigating **bad predictions, aka false positives** I won't lose any money. However, if I **overlook a hole, because I'm getting a false negative** then I'm at risk of actually losing money.\n",
    "\n",
    "The metric that I want to maximize, then, is not total accuracy, but recall. So, I also bring in an F1 score tool and the recall score tool."
   ]
  },
  {
   "cell_type": "code",
   "execution_count": 221,
   "metadata": {},
   "outputs": [],
   "source": [
    "from sklearn.ensemble import RandomForestClassifier\n",
    "from sklearn.model_selection import GridSearchCV\n",
    "from sklearn.metrics import recall_score, f1_score, make_scorer"
   ]
  },
  {
   "cell_type": "code",
   "execution_count": 236,
   "metadata": {},
   "outputs": [],
   "source": [
    "forest = RandomForestClassifier(n_estimators = 1000)\n",
    "params = {'criterion': ['gini', 'entropy'],\n",
    "         'max_depth': [None, 2, 4, 6, 8, 10],\n",
    "         'min_samples_leaf': [2, 3, 4],\n",
    "         'max_features': [None, 3, 5, 7, 9, 11]}"
   ]
  },
  {
   "cell_type": "code",
   "execution_count": 243,
   "metadata": {},
   "outputs": [
    {
     "name": "stderr",
     "output_type": "stream",
     "text": [
      "C:\\Users\\mulli\\Anaconda3\\envs\\learn-env\\lib\\site-packages\\sklearn\\model_selection\\_split.py:2053: FutureWarning: You should specify a value for 'cv' instead of relying on the default value. The default value will change from 3 to 5 in version 0.22.\n",
      "  warnings.warn(CV_WARNING, FutureWarning)\n",
      "C:\\Users\\mulli\\Anaconda3\\envs\\learn-env\\lib\\site-packages\\sklearn\\model_selection\\_search.py:841: DeprecationWarning: The default of the `iid` parameter will change from True to False in version 0.22 and will be removed in 0.24. This will change numeric results when test-set sizes are unequal.\n",
      "  DeprecationWarning)\n"
     ]
    },
    {
     "data": {
      "text/plain": [
       "GridSearchCV(cv='warn', error_score='raise-deprecating',\n",
       "       estimator=RandomForestClassifier(bootstrap=True, class_weight=None, criterion='gini',\n",
       "            max_depth=None, max_features='auto', max_leaf_nodes=None,\n",
       "            min_impurity_decrease=0.0, min_impurity_split=None,\n",
       "            min_samples_leaf=1, min_samples_split=2,\n",
       "            min_weight_fraction_leaf=0.0, n_estimators=1000, n_jobs=None,\n",
       "            oob_score=False, random_state=None, verbose=0,\n",
       "            warm_start=False),\n",
       "       fit_params=None, iid='warn', n_jobs=6,\n",
       "       param_grid={'criterion': ['gini', 'entropy'], 'max_depth': [None, 2, 4, 6, 8, 10], 'min_samples_leaf': [2, 3, 4], 'max_features': [None, 3, 5, 7, 9, 11]},\n",
       "       pre_dispatch='2*n_jobs', refit=True, return_train_score='warn',\n",
       "       scoring=make_scorer(recall_score), verbose=0)"
      ]
     },
     "execution_count": 243,
     "metadata": {},
     "output_type": "execute_result"
    }
   ],
   "source": [
    "result = GridSearchCV(forest, params, scoring = make_scorer(recall_score), n_jobs = 6)\n",
    "result.fit(X_train, y_train)"
   ]
  },
  {
   "cell_type": "code",
   "execution_count": 244,
   "metadata": {},
   "outputs": [
    {
     "data": {
      "text/plain": [
       "0.023950826621449765"
      ]
     },
     "execution_count": 244,
     "metadata": {},
     "output_type": "execute_result"
    }
   ],
   "source": [
    "result.best_score_"
   ]
  },
  {
   "cell_type": "code",
   "execution_count": 245,
   "metadata": {},
   "outputs": [
    {
     "data": {
      "text/plain": [
       "{'criterion': 'gini',\n",
       " 'max_depth': 6,\n",
       " 'max_features': None,\n",
       " 'min_samples_leaf': 2}"
      ]
     },
     "execution_count": 245,
     "metadata": {},
     "output_type": "execute_result"
    }
   ],
   "source": [
    "result.best_params_"
   ]
  },
  {
   "cell_type": "code",
   "execution_count": 246,
   "metadata": {},
   "outputs": [],
   "source": [
    "test = RandomForestClassifier(criterion = 'gini',\n",
    "                           max_depth = 6,\n",
    "                           max_features = None, \n",
    "                           min_samples_leaf = 2)"
   ]
  },
  {
   "cell_type": "code",
   "execution_count": 247,
   "metadata": {},
   "outputs": [
    {
     "name": "stderr",
     "output_type": "stream",
     "text": [
      "C:\\Users\\mulli\\Anaconda3\\envs\\learn-env\\lib\\site-packages\\sklearn\\ensemble\\forest.py:246: FutureWarning: The default value of n_estimators will change from 10 in version 0.20 to 100 in 0.22.\n",
      "  \"10 in version 0.20 to 100 in 0.22.\", FutureWarning)\n"
     ]
    },
    {
     "data": {
      "text/plain": [
       "RandomForestClassifier(bootstrap=True, class_weight=None, criterion='gini',\n",
       "            max_depth=6, max_features=None, max_leaf_nodes=None,\n",
       "            min_impurity_decrease=0.0, min_impurity_split=None,\n",
       "            min_samples_leaf=2, min_samples_split=2,\n",
       "            min_weight_fraction_leaf=0.0, n_estimators=10, n_jobs=None,\n",
       "            oob_score=False, random_state=None, verbose=0,\n",
       "            warm_start=False)"
      ]
     },
     "execution_count": 247,
     "metadata": {},
     "output_type": "execute_result"
    }
   ],
   "source": [
    "test.fit(X_train, y_train)"
   ]
  },
  {
   "cell_type": "code",
   "execution_count": 248,
   "metadata": {},
   "outputs": [
    {
     "data": {
      "text/plain": [
       "array([[634,   0],\n",
       "       [ 31,   9]], dtype=int64)"
      ]
     },
     "execution_count": 248,
     "metadata": {},
     "output_type": "execute_result"
    }
   ],
   "source": [
    "confusion_matrix(y_train, test.predict(X_train))"
   ]
  },
  {
   "cell_type": "code",
   "execution_count": 249,
   "metadata": {},
   "outputs": [
    {
     "data": {
      "text/plain": [
       "array([[273,   0],\n",
       "       [ 16,   0]], dtype=int64)"
      ]
     },
     "execution_count": 249,
     "metadata": {},
     "output_type": "execute_result"
    }
   ],
   "source": [
    "confusion_matrix(y_test, test.predict(X_test))"
   ]
  },
  {
   "cell_type": "markdown",
   "metadata": {},
   "source": [
    "Unfortunately, the random forest scored a very poor recall score even though it is still about 94.4% accurate."
   ]
  },
  {
   "cell_type": "markdown",
   "metadata": {},
   "source": [
    "# Model Test - XGBoost w/ Grid Search\n",
    "\n",
    "From here I'm going to try and clean up XGBoost with a few hyperparameters as well."
   ]
  },
  {
   "cell_type": "code",
   "execution_count": 270,
   "metadata": {},
   "outputs": [],
   "source": [
    "xgb3 = XGBClassifier()\n",
    "params = {'scale_pos_weight': [2,3,4,5,10,15,16,17,20],\n",
    "          'objective': ['binary:logistic', 'binary:logitraw'],\n",
    "          'max_depth': [6, 8, 10]}"
   ]
  },
  {
   "cell_type": "code",
   "execution_count": 271,
   "metadata": {
    "scrolled": true
   },
   "outputs": [
    {
     "name": "stderr",
     "output_type": "stream",
     "text": [
      "C:\\Users\\mulli\\Anaconda3\\envs\\learn-env\\lib\\site-packages\\sklearn\\model_selection\\_split.py:2053: FutureWarning: You should specify a value for 'cv' instead of relying on the default value. The default value will change from 3 to 5 in version 0.22.\n",
      "  warnings.warn(CV_WARNING, FutureWarning)\n",
      "C:\\Users\\mulli\\Anaconda3\\envs\\learn-env\\lib\\site-packages\\sklearn\\model_selection\\_search.py:841: DeprecationWarning: The default of the `iid` parameter will change from True to False in version 0.22 and will be removed in 0.24. This will change numeric results when test-set sizes are unequal.\n",
      "  DeprecationWarning)\n"
     ]
    },
    {
     "data": {
      "text/plain": [
       "GridSearchCV(cv='warn', error_score='raise-deprecating',\n",
       "       estimator=XGBClassifier(base_score=0.5, booster='gbtree', colsample_bylevel=1,\n",
       "       colsample_bytree=1, gamma=0, learning_rate=0.1, max_delta_step=0,\n",
       "       max_depth=3, min_child_weight=1, missing=None, n_estimators=100,\n",
       "       n_jobs=1, nthread=None, objective='binary:logistic', random_state=0,\n",
       "       reg_alpha=0, reg_lambda=1, scale_pos_weight=1, seed=None,\n",
       "       silent=True, subsample=1),\n",
       "       fit_params=None, iid='warn', n_jobs=7,\n",
       "       param_grid={'scale_pos_weight': [2, 3, 4, 5, 10, 15, 16, 17, 20], 'objective': ['binary:logistic', 'binary:logitraw'], 'max_depth': [6, 8, 10]},\n",
       "       pre_dispatch='2*n_jobs', refit=True, return_train_score='warn',\n",
       "       scoring=make_scorer(recall_score), verbose=0)"
      ]
     },
     "execution_count": 271,
     "metadata": {},
     "output_type": "execute_result"
    }
   ],
   "source": [
    "xgbtest = GridSearchCV(xgb3, params, scoring = make_scorer(recall_score), n_jobs = 7)\n",
    "xgbtest.fit(X_train, y_train)"
   ]
  },
  {
   "cell_type": "code",
   "execution_count": 272,
   "metadata": {},
   "outputs": [
    {
     "data": {
      "text/plain": [
       "0.15016141128900773"
      ]
     },
     "execution_count": 272,
     "metadata": {},
     "output_type": "execute_result"
    }
   ],
   "source": [
    "xgbtest.best_score_"
   ]
  },
  {
   "cell_type": "code",
   "execution_count": 273,
   "metadata": {},
   "outputs": [
    {
     "data": {
      "text/plain": [
       "array([[634,   0],\n",
       "       [  0,  40]], dtype=int64)"
      ]
     },
     "execution_count": 273,
     "metadata": {},
     "output_type": "execute_result"
    }
   ],
   "source": [
    "confusion_matrix(y_train, xgbtest.predict(X_train))"
   ]
  },
  {
   "cell_type": "code",
   "execution_count": 274,
   "metadata": {},
   "outputs": [
    {
     "data": {
      "text/plain": [
       "array([[269,   4],\n",
       "       [ 15,   1]], dtype=int64)"
      ]
     },
     "execution_count": 274,
     "metadata": {},
     "output_type": "execute_result"
    }
   ],
   "source": [
    "confusion_matrix(y_test, xgbtest.predict(X_test))"
   ]
  },
  {
   "cell_type": "markdown",
   "metadata": {},
   "source": [
    "This result isn't bad - it's still about 94% total accuracy with a mediocre recall score. Remember that our initial decision tree had a recall score of 3/16, and that the random forest had a recall score of 2/16.\n",
    "\n",
    "I want to see if whether I add in interaction terms the algorithms will change. I know that so far, all the terms are independent of each other - they represent the same overall meaning, but over a smaller and smaller time scale. The deltas between these timescales might impact the model; or it's possible the dletas of the sell through percents will as well.\n",
    "\n",
    "So, I'm going back to the drawing board to see what I can do."
   ]
  }
 ],
 "metadata": {
  "kernelspec": {
   "display_name": "Python [conda env:learn-env] *",
   "language": "python",
   "name": "conda-env-learn-env-py"
  },
  "language_info": {
   "codemirror_mode": {
    "name": "ipython",
    "version": 3
   },
   "file_extension": ".py",
   "mimetype": "text/x-python",
   "name": "python",
   "nbconvert_exporter": "python",
   "pygments_lexer": "ipython3",
   "version": "3.6.6"
  }
 },
 "nbformat": 4,
 "nbformat_minor": 2
}
